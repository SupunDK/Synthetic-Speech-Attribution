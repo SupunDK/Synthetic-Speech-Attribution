{
 "cells": [
  {
   "cell_type": "code",
   "execution_count": null,
   "metadata": {},
   "outputs": [],
   "source": [
    "import numpy as np\n",
    "import pandas as pd\n",
    "import soundfile as sf\n",
    "import torch\n",
    "import torchaudio\n",
    "from asteroid.models import BaseModel\n",
    "from pathlib import Path\n",
    "from torchaudio import transforms\n",
    "import random\n",
    "from torch.utils.data import DataLoader, Dataset, random_split\n",
    "import csv\n",
    "import wave\n",
    "import scipy.io.wavfile as wavfile\n",
    "model = BaseModel.from_pretrained(\"JorisCos/DPTNet_Libri1Mix_enhsingle_16k\")"
   ]
  },
  {
   "cell_type": "code",
   "execution_count": null,
   "metadata": {},
   "outputs": [],
   "source": [
    "file = open(\"E:/SP_Cup/spcup_2022_eval_part2/spcup_2022_eval_part2/labels_eval_part2.csv\")\n",
    "csvreader = csv.reader(file)\n",
    "header = next(csvreader)\n",
    "print(header)\n",
    "rows = []\n",
    "for row in csvreader:\n",
    "  rows.append(row[1])\n",
    "count = 0\n",
    "for i in rows:\n",
    "  count += 1\n",
    "  mixture, sample_rate = sf.read('E:/SP_Cup/spcup_2022_eval_part2/spcup_2022_eval_part2/'+ i , dtype=\"float32\", always_2d=True)\n",
    "  mixture = mixture.transpose()\n",
    "  mixture = mixture.reshape(1, mixture.shape[0], mixture.shape[1])\n",
    "  out_wavs = model.separate(mixture)\n",
    "  wavfile.write(\"E:/SP_Cup/Denoised signals_1\"+ \"/\" + i, sample_rate, out_wavs[0, 0, :])\n",
    "  print(i)\n",
    "\n",
    "file.close()"
   ]
  }
 ],
 "metadata": {
  "interpreter": {
   "hash": "1f2e1d1c2f1271d226aa53d8fe823e7672bab1a1fe4ea82672651ce35b76c697"
  },
  "kernelspec": {
   "display_name": "Python 3.8.8 ('base')",
   "language": "python",
   "name": "python3"
  },
  "language_info": {
   "codemirror_mode": {
    "name": "ipython",
    "version": 3
   },
   "file_extension": ".py",
   "mimetype": "text/x-python",
   "name": "python",
   "nbconvert_exporter": "python",
   "pygments_lexer": "ipython3",
   "version": "3.10.2"
  },
  "orig_nbformat": 4
 },
 "nbformat": 4,
 "nbformat_minor": 2
}
